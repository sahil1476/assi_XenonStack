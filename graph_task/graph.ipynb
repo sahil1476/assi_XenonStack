{
 "cells": [
  {
   "cell_type": "markdown",
   "metadata": {},
   "source": [
    "# GRAPH creation..."
   ]
  },
  {
   "cell_type": "code",
   "execution_count": 3,
   "metadata": {},
   "outputs": [
    {
     "data": {
      "text/plain": [
       "{'i': ['j', 'k'],\n",
       " 'j': ['i'],\n",
       " 'k': ['i', 'm'],\n",
       " 'm': ['k'],\n",
       " 'o': ['n'],\n",
       " 'n': ['o']}"
      ]
     },
     "execution_count": 3,
     "metadata": {},
     "output_type": "execute_result"
    }
   ],
   "source": [
    "#  graph creation  if egdes are given....\n",
    "edges = [['i','j'],\n",
    "         ['k','i'],\n",
    "         ['m','k'],\n",
    "         ['k','l'],\n",
    "         ['o','n']\n",
    "         ] # node i and j is connected , here egde is given\n",
    "def bulidgraph(edges):\n",
    "    graph = {}\n",
    "    for egde in edges: # edge--- ['i','j']...... this list is given\n",
    "        pointA, pointB = egde\n",
    "        if pointA not in graph:\n",
    "            graph[pointA] = []\n",
    "            if pointB not in graph:\n",
    "                graph[pointB] = []\n",
    "            graph[pointA].append(pointB)\n",
    "            graph[pointB].append(pointA)    \n",
    "    return graph        \n",
    "\n",
    "\n",
    "bulidgraph(edges)"
   ]
  },
  {
   "cell_type": "code",
   "execution_count": 6,
   "metadata": {},
   "outputs": [
    {
     "name": "stdout",
     "output_type": "stream",
     "text": [
      "[['i', 'j'], ['k', 'i'], ['m', 'k'], ['k', 'l'], ['o', 'n']]\n"
     ]
    },
    {
     "data": {
      "text/plain": [
       "{'i': ['j', 'k'],\n",
       " 'j': ['i'],\n",
       " 'k': ['i', 'm'],\n",
       " 'm': ['k'],\n",
       " 'o': ['n'],\n",
       " 'n': ['o']}"
      ]
     },
     "execution_count": 6,
     "metadata": {},
     "output_type": "execute_result"
    }
   ],
   "source": [
    "# graph take input from user...\n",
    "\n",
    "\n",
    "def bulidgraph(edges):\n",
    "    graph = {}\n",
    "    for egde in edges: # edge--- ['i','j']...... this list is given\n",
    "        pointA, pointB = egde\n",
    "        if pointA not in graph:\n",
    "            graph[pointA] = []\n",
    "            if pointB not in graph:\n",
    "                graph[pointB] = []\n",
    "            graph[pointA].append(pointB)\n",
    "            graph[pointB].append(pointA)    \n",
    "    return graph  \n",
    "\n",
    "n = 5 # no. of edges \n",
    "edges = []\n",
    "for i in range(n):\n",
    "    edges.append(input().split()) # here input.split will split the input if I = ij, O = ['i','j']\n",
    "print(edges)    \n",
    "\n",
    "bulidgraph(edges)\n"
   ]
  },
  {
   "cell_type": "markdown",
   "metadata": {},
   "source": [
    "## DFS | depth first search..\n"
   ]
  },
  {
   "cell_type": "code",
   "execution_count": 10,
   "metadata": {},
   "outputs": [
    {
     "name": "stdout",
     "output_type": "stream",
     "text": [
      "10\n",
      "50\n",
      "60\n",
      "70\n",
      "40\n",
      "30\n",
      "20\n"
     ]
    }
   ],
   "source": [
    "# DFS | Graph treversal .......\n",
    "# Iterative Method..\n",
    "\n",
    "graph = { 10:[20,30,40,50],\n",
    "         20:[],\n",
    "         30:[],\n",
    "         40:[],\n",
    "         50:[60],\n",
    "         60:[70],\n",
    "         70:[]\n",
    "         }\n",
    "\n",
    "def DFS_itr(graph, start):\n",
    "    stack = [start]\n",
    "    while stack:  # while stack is not empty\n",
    "        cur = stack.pop()\n",
    "        print(cur)\n",
    "        for val in graph[cur]: # for cur valuegive list of  node connected\n",
    "            stack.append(val)\n",
    "            \n",
    "    \n",
    "DFS_itr(graph, 10)    "
   ]
  },
  {
   "cell_type": "code",
   "execution_count": 12,
   "metadata": {},
   "outputs": [
    {
     "name": "stdout",
     "output_type": "stream",
     "text": [
      "10\n",
      "20\n",
      "30\n",
      "40\n",
      "50\n",
      "60\n",
      "70\n"
     ]
    }
   ],
   "source": [
    "# DFS | Graph treversal .......\n",
    "# Recursive Method..\n",
    "\n",
    "graph = { 10:[20,30,40,50],\n",
    "         20:[],\n",
    "         30:[],\n",
    "         40:[],\n",
    "         50:[60],\n",
    "         60:[70],\n",
    "         70:[]\n",
    "         }\n",
    "\n",
    "def DFS_rec(graph,start):\n",
    "    print(start)\n",
    "    \n",
    "    if len(graph[start]) == 0: # Base condition\n",
    "        return\n",
    "    \n",
    "    for val in graph[start]:\n",
    "        DFS_rec(graph, val)\n",
    "\n",
    "DFS_rec(graph, 10)    "
   ]
  },
  {
   "cell_type": "markdown",
   "metadata": {},
   "source": [
    "## BFS | breadth first search"
   ]
  },
  {
   "cell_type": "code",
   "execution_count": 13,
   "metadata": {},
   "outputs": [
    {
     "name": "stdout",
     "output_type": "stream",
     "text": [
      "10\n",
      "20\n",
      "30\n",
      "40\n",
      "50\n",
      "500\n",
      "100\n",
      "200\n",
      "60\n",
      "100\n",
      "70\n"
     ]
    }
   ],
   "source": [
    "# BFS | Graph Treversal.....\n",
    "# iterative method\n",
    "\n",
    "graph = { 10:[20,30,40,50],\n",
    "         20:[500],\n",
    "         30:[100],\n",
    "         40:[200],\n",
    "         50:[60],\n",
    "         60:[70],\n",
    "         70:[],\n",
    "         500:[100],\n",
    "         100:[],\n",
    "         200:[],\n",
    "         1000:[]\n",
    "         }\n",
    "\n",
    "def BFS_itr(graph,start):\n",
    "    queue = [start]\n",
    "    while queue:\n",
    "        cur = queue.pop(0)\n",
    "        print(cur)\n",
    "        for val in graph[cur]:\n",
    "            queue.append(val)\n",
    "\n",
    "BFS_itr(graph, 10)"
   ]
  },
  {
   "cell_type": "code",
   "execution_count": 15,
   "metadata": {},
   "outputs": [
    {
     "name": "stdout",
     "output_type": "stream",
     "text": [
      "10\n",
      "20\n",
      "30\n",
      "40\n",
      "50\n",
      "500\n",
      "100\n",
      "200\n",
      "60\n",
      "100\n",
      "70\n"
     ]
    }
   ],
   "source": [
    "# BFS | Graph Treversal.....\n",
    "# recursive method\n",
    "\n",
    "def BFS_recursive_helper(graph, queue, visited):\n",
    "    if not queue:  # if queue is empty, return\n",
    "        return\n",
    "    cur = queue.pop(0)  # remove the first element from the queue\n",
    "    print(cur)\n",
    "    visited.add(cur)  # mark the current node as visited\n",
    "    for val in graph[cur]:\n",
    "        if val not in visited:  # if the neighbor node is not visited yet\n",
    "            queue.append(val)  # add it to the queue\n",
    "    BFS_recursive_helper(graph, queue, visited)  # call the helper function recursively\n",
    "\n",
    "def BFS_recursive(graph, start):\n",
    "    queue = [start]\n",
    "    visited = set()  # keep track of visited nodes\n",
    "    BFS_recursive_helper(graph, queue, visited)\n",
    "\n",
    "# Example usage\n",
    "graph = {\n",
    "    10: [20, 30, 40, 50],\n",
    "    20: [500],\n",
    "    30: [100],\n",
    "    40: [200],\n",
    "    50: [60],\n",
    "    60: [70],\n",
    "    70: [],\n",
    "    500: [100],\n",
    "    100: [],\n",
    "    200: [],\n",
    "    1000: []\n",
    "}\n",
    "\n",
    "BFS_recursive(graph, 10)\n"
   ]
  },
  {
   "cell_type": "markdown",
   "metadata": {},
   "source": [
    "# Water jug Problem...\n",
    "#### Write a program to solve the following problem using python/scala/golang: 1.You have two jugs, a 4-gallon and a 3-gallon. Neither of the jugs has markings on them. There is a pump that can be used to fill the jugs with water. How can you get exactly two gallons of water in the 4 gallon jug? 2. Generalise the problem above so that the parameters to your solution include the sizes of each jug and the final amount of water to be left in the larger jug.\n"
   ]
  },
  {
   "cell_type": "code",
   "execution_count": 7,
   "metadata": {},
   "outputs": [
    {
     "name": "stdout",
     "output_type": "stream",
     "text": [
      "Fill jug1\n",
      "(4, 0)\n",
      "Fill jug2\n",
      "(0, 3)\n",
      "Fill jug2\n",
      "(4, 3)\n",
      "Pour from jug1 to jug2\n",
      "(1, 3)\n",
      "Pour from jug2 to jug1\n",
      "(3, 0)\n",
      "Empty jug2\n",
      "(1, 0)\n",
      "Fill jug2\n",
      "(3, 3)\n",
      "Pour from jug1 to jug2\n",
      "(0, 1)\n",
      "Pour from jug2 to jug1\n",
      "(4, 2)\n",
      "Fill jug1\n",
      "(4, 1)\n",
      "Empty jug1\n",
      "(0, 2)\n",
      "Pour from jug1 to jug2\n",
      "(2, 3)\n",
      "Pour from jug2 to jug1\n",
      "(2, 0)\n",
      "Desired amount of water achieved in the larger jug\n"
     ]
    }
   ],
   "source": [
    "from collections import deque\n",
    "\n",
    "def pour_water_bfs(jug1_capacity, jug2_capacity, target_amount):\n",
    "    visited = set()\n",
    "    queue = deque([(0, 0)])  # both jugs empty\n",
    "    visited.add((0, 0))  # Mark the initial state as visited\n",
    "\n",
    "    while queue:\n",
    "        jug1_current, jug2_current = queue.popleft()\n",
    "\n",
    "        # Check if the target amount is achieved\n",
    "        if jug1_current == target_amount:\n",
    "            print(\"Desired amount of water achieved in the larger jug\")\n",
    "            return\n",
    "        \n",
    "        # Possible operations: fill, empty, pour\n",
    "        operations = [\n",
    "            (\"Fill jug1\", jug1_capacity, jug2_current),\n",
    "            (\"Fill jug2\", jug1_current, jug2_capacity),\n",
    "            (\"Empty jug1\", 0, jug2_current),\n",
    "            (\"Empty jug2\", jug1_current, 0),\n",
    "            (\"Pour from jug1 to jug2\", max(0, jug1_current - (jug2_capacity - jug2_current)), min(jug1_current + jug2_current, jug2_capacity)),\n",
    "            (\"Pour from jug2 to jug1\", min(jug1_capacity, jug1_current + jug2_current), max(0, jug2_current - (jug1_capacity - jug1_current)))\n",
    "        ]\n",
    "\n",
    "        for operation, new_jug1_amount, new_jug2_amount in operations:\n",
    "            new_state = (new_jug1_amount, new_jug2_amount)\n",
    "            if new_state not in visited:\n",
    "                visited.add(new_state)\n",
    "                queue.append(new_state)\n",
    "                print(operation)\n",
    "                print(new_state)\n",
    "    print(\"Target amount cannot be achieved in the larger jug\")\n",
    "\n",
    "'''\n",
    "pour_water_bfs(4, 3, 2)\n",
    "\n",
    "'''\n",
    "# Problem\n",
    "jug1_capacity = int(input(\"Enter the capacity of the first jug: \"))\n",
    "jug2_capacity = int(input(\"Enter the capacity of the second jug: \"))\n",
    "target_amount = int(input(\"Enter the final amount of water to be left in the larger jug: \"))\n",
    "pour_water_bfs(jug1_capacity, jug2_capacity, target_amount)\n"
   ]
  },
  {
   "cell_type": "markdown",
   "metadata": {},
   "source": [
    "# Missionaries and Cannibals problem\n",
    "#### Write a program that solves the following problem using python/scala/golang: Three missionaries and three cannibals come to a river and find a boat that holds two people. Everyone must get across the river to continue on the journey. However, if the cannibals ever outnumber the missionaries on either bank, the missionaries will be eaten. Find a series of crossings that will get everyone safely to the other side of the river."
   ]
  },
  {
   "cell_type": "code",
   "execution_count": 24,
   "metadata": {},
   "outputs": [
    {
     "name": "stdout",
     "output_type": "stream",
     "text": [
      "solution paths\n",
      "3 missionaries , 3 cannibles , boat on left, 0 missionaries, 0 cannibles\n",
      "3 missionaries , 1 cannibles , boat on right, 0 missionaries, 2 cannibles\n",
      "1 missionaries , 1 cannibles , boat on left, 2 missionaries, 2 cannibles\n",
      "0 missionaries , 0 cannibles , boat on right, 3 missionaries, 3 cannibles\n"
     ]
    }
   ],
   "source": [
    "from collections import deque\n",
    "\n",
    "def is_valid(state):\n",
    "    m1, c1, b, m2, c2 = state\n",
    "    return 0 <= m1 <= 3 and 0 <= c1 <= 3 and 0 <= m2 <= 3 and 0 <= c2 <= 3 and ((m1 == 0 or m1 >= c1) and \
(m2 == 0 or m2 >= c2))\n",
    "\n",
    "def generate_next_states(state):\n",
    "    m1, c1, b, m2, c2 = state\n",
    "    moves = [(1,0),(2,0),(0,1),(0,2),(1,1)]\n",
    "    '''\n",
    "    (1,0) = one M,\n",
    "    (2,0) = two M,\n",
    "    (0,1) = one C,\n",
    "    (0,2) = two C,\n",
    "    (1,1) = one M and one C\n",
    "    '''\n",
    "    next_states = [] # for next valid states valid\n",
    "    for dm , dc in moves:\n",
    "        if b == 1: # mean boat is in left side, 0 mean on right side\n",
    "            new_state = (m1 - dm, c1 - dc, 0, m2 + dm, c2 + dc)\n",
    "        else:\n",
    "            new_state = (m1 - dm, c1 - dc, 1, m2 + dm, c2 + dc)\n",
    "        \n",
    "        if is_valid(new_state):\n",
    "            next_states.append(new_state)\n",
    "    return next_states \n",
    "      \n",
    "         \n",
    "def solve_bfs(start_state):\n",
    "    queue = [(start_state, [start_state])]\n",
    "    while queue:\n",
    "        current_state, path = queue.pop(0)\n",
    "        if current_state == (0,0,0,3,3):\n",
    "            return path\n",
    "        for next_state in generate_next_states(current_state):\n",
    "            if next_state not in path:\n",
    "                queue.append((next_state, path + [next_state] ))\n",
    "    return None  \n",
    "\n",
    "start_state = (3,3,1,0,0)\n",
    "solution = solve_bfs(start_state)\n",
    "if solution:\n",
    "    print(\"solution paths\")\n",
    "    for state in solution:\n",
    "        m1, c1, b, m2, c2 = state\n",
    "        print(f\"{m1} missionaries , {c1} cannibles , {'boat on left' if b == 1 else 'boat on right'}, {m2} missionaries, {c2} cannibles\")\n",
    "else:\n",
    "    print(\"No Solution....\")                 \n",
    "                "
   ]
  },
  {
   "cell_type": "code",
   "execution_count": null,
   "metadata": {},
   "outputs": [],
   "source": []
  }
 ],
 "metadata": {
  "kernelspec": {
   "display_name": "Python 3",
   "language": "python",
   "name": "python3"
  },
  "language_info": {
   "codemirror_mode": {
    "name": "ipython",
    "version": 3
   },
   "file_extension": ".py",
   "mimetype": "text/x-python",
   "name": "python",
   "nbconvert_exporter": "python",
   "pygments_lexer": "ipython3",
   "version": "3.12.1"
  }
 },
 "nbformat": 4,
 "nbformat_minor": 2
}
