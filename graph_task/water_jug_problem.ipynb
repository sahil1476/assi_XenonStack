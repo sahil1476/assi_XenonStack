{
 "cells": [
  {
   "cell_type": "markdown",
   "metadata": {},
   "source": [
    "# Water jug Problem...\n",
    "#### Write a program to solve the following problem using python/scala/golang: 1.You have two jugs, a 4-gallon and a 3-gallon. Neither of the jugs has markings on them. There is a pump that can be used to fill the jugs with water. How can you get exactly two gallons of water in the 4 gallon jug? 2. Generalise the problem above so that the parameters to your solution include the sizes of each jug and the final amount of water to be left in the larger jug.\n"
   ]
  },
  {
   "cell_type": "code",
   "execution_count": 2,
   "metadata": {},
   "outputs": [
    {
     "name": "stdout",
     "output_type": "stream",
     "text": [
      "Fill jug1\n",
      "(4, 0)\n",
      "Fill jug2\n",
      "(0, 3)\n",
      "Fill jug2\n",
      "(4, 3)\n",
      "Pour from jug1 to jug2\n",
      "(1, 3)\n",
      "Pour from jug2 to jug1\n",
      "(3, 0)\n",
      "Empty jug2\n",
      "(1, 0)\n",
      "Fill jug2\n",
      "(3, 3)\n",
      "Pour from jug1 to jug2\n",
      "(0, 1)\n",
      "Pour from jug2 to jug1\n",
      "(4, 2)\n",
      "Fill jug1\n",
      "(4, 1)\n",
      "Empty jug1\n",
      "(0, 2)\n",
      "Pour from jug1 to jug2\n",
      "(2, 3)\n",
      "Pour from jug2 to jug1\n",
      "(2, 0)\n",
      "Desired amount of water achieved in the larger jug\n"
     ]
    }
   ],
   "source": [
    "from collections import deque\n",
    "\n",
    "def pour_water_bfs(jug1_capacity, jug2_capacity, target_amount):\n",
    "    visited = set()\n",
    "    queue = deque([(0, 0)])  # both jugs empty\n",
    "    visited.add((0, 0))  # Mark the initial state as visited\n",
    "\n",
    "    while queue:\n",
    "        jug1_current, jug2_current = queue.popleft()\n",
    "\n",
    "        # Check if the target amount is achieved\n",
    "        if jug1_current == target_amount:\n",
    "            print(\"Desired amount of water achieved in the larger jug\")\n",
    "            return\n",
    "        \n",
    "        # Possible operations: fill, empty, pour\n",
    "        operations = [\n",
    "            (\"Fill jug1\", jug1_capacity, jug2_current),\n",
    "            (\"Fill jug2\", jug1_current, jug2_capacity),\n",
    "            (\"Empty jug1\", 0, jug2_current),\n",
    "            (\"Empty jug2\", jug1_current, 0),\n",
    "            (\"Pour from jug1 to jug2\", max(0, jug1_current - (jug2_capacity - jug2_current)), min(jug1_current + jug2_current, jug2_capacity)),\n",
    "            (\"Pour from jug2 to jug1\", min(jug1_capacity, jug1_current + jug2_current), max(0, jug2_current - (jug1_capacity - jug1_current)))\n",
    "        ]\n",
    "\n",
    "        for operation, new_jug1_amount, new_jug2_amount in operations:\n",
    "            new_state = (new_jug1_amount, new_jug2_amount)\n",
    "            if new_state not in visited:\n",
    "                visited.add(new_state)\n",
    "                queue.append(new_state)\n",
    "                print(operation)\n",
    "                print(new_state)\n",
    "    print(\"Target amount cannot be achieved in the larger jug\")\n",
    "\n",
    "'''\n",
    "pour_water_bfs(4, 3, 2)\n",
    "\n",
    "'''\n",
    "# Problem\n",
    "jug1_capacity = int(input(\"Enter the capacity of the first jug: \"))\n",
    "jug2_capacity = int(input(\"Enter the capacity of the second jug: \"))\n",
    "target_amount = int(input(\"Enter the final amount of water to be left in the larger jug: \"))\n",
    "pour_water_bfs(jug1_capacity, jug2_capacity, target_amount)\n"
   ]
  }
 ],
 "metadata": {
  "kernelspec": {
   "display_name": "Python 3",
   "language": "python",
   "name": "python3"
  },
  "language_info": {
   "codemirror_mode": {
    "name": "ipython",
    "version": 3
   },
   "file_extension": ".py",
   "mimetype": "text/x-python",
   "name": "python",
   "nbconvert_exporter": "python",
   "pygments_lexer": "ipython3",
   "version": "3.12.1"
  }
 },
 "nbformat": 4,
 "nbformat_minor": 2
}
